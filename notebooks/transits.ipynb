{
 "cells": [
  {
   "cell_type": "code",
   "execution_count": 3,
   "metadata": {},
   "outputs": [],
   "source": [
    "import lusee\n",
    "import numpy as np\n",
    "import matplotlib.pyplot as plt"
   ]
  },
  {
   "cell_type": "code",
   "execution_count": 11,
   "metadata": {},
   "outputs": [
    {
     "name": "stderr",
     "output_type": "stream",
     "text": [
      "WARNING: ErfaWarning: ERFA function \"dtf2d\" yielded 395 of \"dubious year (Note 6)\" [astropy._erfa.core]\n",
      "WARNING: ErfaWarning: ERFA function \"utctai\" yielded 1 of \"dubious year (Note 3)\" [astropy._erfa.core]\n",
      "WARNING: ErfaWarning: ERFA function \"taiutc\" yielded 1 of \"dubious year (Note 4)\" [astropy._erfa.core]\n",
      "WARNING: ErfaWarning: ERFA function \"dtf2d\" yielded 1 of \"dubious year (Note 6)\" [astropy._erfa.core]\n"
     ]
    }
   ],
   "source": [
    "nights = 2500+np.arange(12) # nights in 2025\n",
    "observations = [lusee.LObservation(night) for night in nights]"
   ]
  },
  {
   "cell_type": "code",
   "execution_count": null,
   "metadata": {},
   "outputs": [
    {
     "name": "stderr",
     "output_type": "stream",
     "text": [
      "WARNING: ErfaWarning: ERFA function \"utctai\" yielded 1 of \"dubious year (Note 3)\" [astropy._erfa.core]\n",
      "WARNING: ErfaWarning: ERFA function \"taiutc\" yielded 1 of \"dubious year (Note 4)\" [astropy._erfa.core]\n",
      "WARNING: ErfaWarning: ERFA function \"utctai\" yielded 1 of \"dubious year (Note 3)\" [astropy._erfa.core]\n",
      "WARNING: ErfaWarning: ERFA function \"taiutc\" yielded 1 of \"dubious year (Note 4)\" [astropy._erfa.core]\n",
      "WARNING: ErfaWarning: ERFA function \"utctai\" yielded 1 of \"dubious year (Note 3)\" [astropy._erfa.core]\n",
      "WARNING: ErfaWarning: ERFA function \"taiutc\" yielded 1 of \"dubious year (Note 4)\" [astropy._erfa.core]\n",
      "WARNING: ErfaWarning: ERFA function \"utctai\" yielded 1 of \"dubious year (Note 3)\" [astropy._erfa.core]\n",
      "WARNING: ErfaWarning: ERFA function \"taiutc\" yielded 1 of \"dubious year (Note 4)\" [astropy._erfa.core]\n",
      "WARNING: ErfaWarning: ERFA function \"utctai\" yielded 1 of \"dubious year (Note 3)\" [astropy._erfa.core]\n",
      "WARNING: ErfaWarning: ERFA function \"taiutc\" yielded 1 of \"dubious year (Note 4)\" [astropy._erfa.core]\n",
      "WARNING: ErfaWarning: ERFA function \"utctai\" yielded 1 of \"dubious year (Note 3)\" [astropy._erfa.core]\n",
      "WARNING: ErfaWarning: ERFA function \"taiutc\" yielded 1 of \"dubious year (Note 4)\" [astropy._erfa.core]\n",
      "WARNING: ErfaWarning: ERFA function \"utctai\" yielded 1 of \"dubious year (Note 3)\" [astropy._erfa.core]\n",
      "WARNING: ErfaWarning: ERFA function \"taiutc\" yielded 1 of \"dubious year (Note 4)\" [astropy._erfa.core]\n",
      "WARNING: ErfaWarning: ERFA function \"utctai\" yielded 1 of \"dubious year (Note 3)\" [astropy._erfa.core]\n",
      "WARNING: ErfaWarning: ERFA function \"taiutc\" yielded 1 of \"dubious year (Note 4)\" [astropy._erfa.core]\n",
      "WARNING: ErfaWarning: ERFA function \"utctai\" yielded 1 of \"dubious year (Note 3)\" [astropy._erfa.core]\n",
      "WARNING: ErfaWarning: ERFA function \"taiutc\" yielded 1 of \"dubious year (Note 4)\" [astropy._erfa.core]\n"
     ]
    }
   ],
   "source": [
    "# for each lunar night plot the jupyter altitude\n",
    "for i, obs in enumerate(observations):\n",
    "    alt, az = obs.get_track_solar('sun')\n",
    "    plt.plot(alt)\n",
    "    w=np.where(alt<0)\n",
    "    altj, azj = obs.get_track_solar('jupiter')\n",
    "    plt.plot(altj[w],label=str(i))\n",
    "    \n",
    "plt.legend()"
   ]
  },
  {
   "cell_type": "code",
   "execution_count": null,
   "metadata": {},
   "outputs": [],
   "source": [
    "# for each lunar night plot the crab altitude\n",
    "crab_ra, crab_dec = '05h34m31.94s', '+22d00m52.2s'\n",
    "for i, obs in enumerate(observations[:4]):\n",
    "    alt, az = obs.get_track_solar('sun')\n",
    "    w=np.where(alt<0)\n",
    "    altr, azr = obs.get_track_ra_dec(ra=crab_ra, dec=crab_dec)\n",
    "    plt.plot(altr,label=str(i))\n",
    "    \n",
    "plt.legend()"
   ]
  },
  {
   "cell_type": "code",
   "execution_count": null,
   "metadata": {},
   "outputs": [],
   "source": []
  }
 ],
 "metadata": {
  "kernelspec": {
   "display_name": "Python 3",
   "language": "python",
   "name": "python3"
  },
  "language_info": {
   "codemirror_mode": {
    "name": "ipython",
    "version": 3
   },
   "file_extension": ".py",
   "mimetype": "text/x-python",
   "name": "python",
   "nbconvert_exporter": "python",
   "pygments_lexer": "ipython3",
   "version": "3.8.5"
  }
 },
 "nbformat": 4,
 "nbformat_minor": 4
}
